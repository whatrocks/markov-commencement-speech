{
 "cells": [
  {
   "cell_type": "code",
   "execution_count": 1,
   "metadata": {},
   "outputs": [],
   "source": [
    "import os\n",
    "import markovify\n",
    "\n",
    "SPEECH_PATH = '/floyd/input/speeches/'\n",
    "\n",
    "speech_dict = {}\n",
    "for speech_file in os.listdir(SPEECH_PATH):\n",
    "    with open(f'{SPEECH_PATH}{speech_file}') as speech:\n",
    "        contents = speech.read()\n",
    "        # Create a Markov model for each speech in our dataset\n",
    "        model = markovify.Text(contents)\n",
    "        speech_dict[speech_file] = model"
   ]
  },
  {
   "cell_type": "code",
   "execution_count": 2,
   "metadata": {},
   "outputs": [
    {
     "name": "stdout",
     "output_type": "stream",
     "text": [
      "Using 299 speeches!\n"
     ]
    }
   ],
   "source": [
    "models = list(speech_dict.values())\n",
    "print(f'Using {len(models)} speeches!')"
   ]
  },
  {
   "cell_type": "code",
   "execution_count": 3,
   "metadata": {},
   "outputs": [],
   "source": [
    "# Combine the Markov models\n",
    "model_combination = markovify.combine(models)"
   ]
  },
  {
   "cell_type": "code",
   "execution_count": 4,
   "metadata": {},
   "outputs": [
    {
     "name": "stdout",
     "output_type": "stream",
     "text": [
      "Others wisely remembered the civil war that had actually sent a note of caution.\n",
      "Each of us who already have the courage of the 9/11 attacks set against a painful drumbeat for war.\n",
      "This, like many immigrants, they dreamed of creating a rich array of skills and aptitudes.\n"
     ]
    }
   ],
   "source": [
    "# Generate 3 sentences\n",
    "for i in range(3):\n",
    "    print(model_combination.make_sentence())"
   ]
  },
  {
   "cell_type": "code",
   "execution_count": 5,
   "metadata": {},
   "outputs": [
    {
     "data": {
      "image/png": "[encoded data removed]",
      "text/plain": [
       "<Figure size 432x288 with 1 Axes>"
      ]
     },
     "metadata": {},
     "output_type": "display_data"
    }
   ],
   "source": [
    "import pandas as pd\n",
    "import matplotlib.pyplot as plt\n",
    "%matplotlib inline\n",
    "\n",
    "df = pd.read_csv('speech_metadata.csv')\n",
    "\n",
    "# Top 10 schools by speech count\n",
    "top_ten_schools = df.school.value_counts().head(10)\n",
    "top_ten_schools.plot.bar()\n",
    "\n",
    "# Make it a Python list\n",
    "top_ten_schools_list = top_ten_schools.index.tolist()\n",
    "\n",
    "# Make list of all speech filenames for these top 10 schools\n",
    "filtered_speech_filenames = []\n",
    "for index, row in df.iterrows():\n",
    "    if row['school'] in top_ten_schools_list:\n",
    "        filtered_speech_filenames.append(row['filename'])\n",
    "\n",
    "# Filter our { filename: markov_model } dict by these filenames\n",
    "filtered_speech_dict = { speech_file: speech_dict[speech_file] for speech_file in filtered_speech_filenames }"
   ]
  },
  {
   "cell_type": "code",
   "execution_count": 6,
   "metadata": {},
   "outputs": [
    {
     "name": "stdout",
     "output_type": "stream",
     "text": [
      "Using 85 speeches!\n",
      "But have no part.\n",
      "Just like me, then at least that this invisibility is an equally age-old idea: that humankind is a great task for politicians.\n",
      "The point is, we all congratulate you on this campus and urban riots, the emergence or the American Olympics coach who looked up to the people in charge, of course, from Eliot House.\n"
     ]
    }
   ],
   "source": [
    "filtered_models = list(filtered_speech_dict.values())\n",
    "print(f'Using {len(filtered_models)} speeches!')\n",
    "\n",
    "# Combine these models and print some new sentences\n",
    "filtered_model_combination = markovify.combine(filtered_models)\n",
    "for i in range(3):\n",
    "    print(filtered_model_combination.make_sentence())"
   ]
  },
  {
   "cell_type": "code",
   "execution_count": 7,
   "metadata": {},
   "outputs": [
    {
     "data": {
      "application/vnd.jupyter.widget-view+json": {
       "model_id": "8fa116aa47714e32abdf5f14c37473ee",
       "version_major": 2,
       "version_minor": 0
      },
      "text/plain": [
       "ToggleButtons(description='Schools: ', options=('Connecticut College', 'Harvard University', 'Niagara Universi…"
      ]
     },
     "metadata": {},
     "output_type": "display_data"
    }
   ],
   "source": [
    "# Actually, let's try these schools one at a time!\n",
    "import ipywidgets as widgets\n",
    "\n",
    "toggle = widgets.ToggleButtons(\n",
    "    options=top_ten_schools_list,\n",
    "    description='Schools: ',\n",
    "    disabled=False,\n",
    "    button_style='',\n",
    "    tooltips=[]\n",
    ")\n",
    "display(toggle)"
   ]
  },
  {
   "cell_type": "code",
   "execution_count": 9,
   "metadata": {},
   "outputs": [
    {
     "name": "stdout",
     "output_type": "stream",
     "text": [
      "Using speeches from Niagara University\n",
      "\n",
      "There are 11 speeches!\n",
      "\n",
      "It is a small school, but he taught me how to respect because of their ordinary and extraordinary lives.\n",
      "The “K” is for the other first enables us to do it because to want to thank you, the class of 2007 can be put to good use.”\n",
      "There will be unwanted.\n"
     ]
    }
   ],
   "source": [
    "print(f'Using speeches from {toggle.value}\\n')\n",
    "\n",
    "# Make list of all speech filenames for selected school\n",
    "filtered_speech_filenames = []\n",
    "for index, row in df.iterrows():\n",
    "    if row['school'] == toggle.value:\n",
    "        filtered_speech_filenames.append(row['filename'])\n",
    "\n",
    "# Filter our { filename: markov_model } dict by these filenames\n",
    "filtered_speech_dict = { speech_file: speech_dict[speech_file] for speech_file in filtered_speech_filenames }\n",
    "\n",
    "filtered_models = list(filtered_speech_dict.values())\n",
    "print(f'There are {len(filtered_models)} speeches!\\n')\n",
    "\n",
    "# Combine these models and print some new sentences\n",
    "filtered_model_combination = markovify.combine(filtered_models)\n",
    "for i in range(3):\n",
    "    print(filtered_model_combination.make_sentence())"
   ]
  }
 ],
 "metadata": {
  "kernelspec": {
   "display_name": "Python 3",
   "language": "python",
   "name": "python3"
  },
  "language_info": {
   "codemirror_mode": {
    "name": "ipython",
    "version": 3
   },
   "file_extension": ".py",
   "mimetype": "text/x-python",
   "name": "python",
   "nbconvert_exporter": "python",
   "pygments_lexer": "ipython3",
   "version": "3.6.5"
  }
 },
 "nbformat": 4,
 "nbformat_minor": 2
}
